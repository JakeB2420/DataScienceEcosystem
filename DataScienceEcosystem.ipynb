{
 "cells": [
  {
   "cell_type": "markdown",
   "id": "1192e092-10ac-47b7-bac2-49ac939e0cbc",
   "metadata": {},
   "source": [
    "# Data Science Tools and Ecosystems"
   ]
  },
  {
   "cell_type": "markdown",
   "id": "38f92323-e7d1-4461-a29a-dbdf1ce7a57d",
   "metadata": {},
   "source": [
    "# In this notebook, Data Science Tools and Ecosystems are summarized. "
   ]
  },
  {
   "cell_type": "markdown",
   "id": "99e04620-ae4b-4cd4-abe7-a77e0ccd4850",
   "metadata": {},
   "source": [
    "# **Objectives:**\n",
    "## -List Popular Languages used by Data Scientists\n",
    "## -List Libraries Commonly used by Data Scientists\n",
    "## -Demonstrate Uses of Arithmetic Expressions in Python"
   ]
  },
  {
   "cell_type": "markdown",
   "id": "1dfdbaae-f09f-48b5-879c-3ffc7105d754",
   "metadata": {},
   "source": [
    "# Some of the popular languages that Data Scientists use are:\n",
    "## 1) Python\n",
    "## 2) R\n",
    "## 3) SQL"
   ]
  },
  {
   "cell_type": "markdown",
   "id": "8d6c905b-30dc-4c77-a806-015b995bc870",
   "metadata": {},
   "source": [
    "# Some of the commonly used libraries used by Data Scientists include:\n",
    "## 1) High-Level Machine Learning\n",
    "## 2) Deep Learning\n",
    "## 3) Scientific Computing"
   ]
  },
  {
   "cell_type": "markdown",
   "id": "d983db31-8483-4070-85c6-504f2e097307",
   "metadata": {},
   "source": [
    "|Data Science Tool|\n",
    "|-----------------|\n",
    "|MongoDB|\n",
    "|Apache|\n",
    "|CouchDB|"
   ]
  },
  {
   "cell_type": "markdown",
   "id": "74ff7f84-12df-4088-ae19-af328e7c3e85",
   "metadata": {},
   "source": [
    "### Below are a few examples of evaluating arithmetic expressions in Python."
   ]
  },
  {
   "cell_type": "markdown",
   "id": "ea2fe1a5-6a3a-4fd9-a2ed-a2a913ea5c5b",
   "metadata": {},
   "source": [
    "#### This is a simple arithmetic expression to multiply then add integers"
   ]
  },
  {
   "cell_type": "code",
   "execution_count": 12,
   "id": "6abf2d36-a121-49d0-82b8-b8e4622264e8",
   "metadata": {},
   "outputs": [
    {
     "data": {
      "text/plain": [
       "17"
      ]
     },
     "execution_count": 12,
     "metadata": {},
     "output_type": "execute_result"
    }
   ],
   "source": [
    "(3*4)+5"
   ]
  },
  {
   "cell_type": "markdown",
   "id": "6e1db234-85ea-4d8c-adb2-2ea23e19b397",
   "metadata": {},
   "source": [
    "#### This will convert 200 minutes to hours by dividing by 60"
   ]
  },
  {
   "cell_type": "code",
   "execution_count": 15,
   "id": "72bcee07-ddaf-405e-8af7-56648823e665",
   "metadata": {},
   "outputs": [
    {
     "data": {
      "text/plain": [
       "3.3333333333333335"
      ]
     },
     "execution_count": 15,
     "metadata": {},
     "output_type": "execute_result"
    }
   ],
   "source": [
    "200/60"
   ]
  },
  {
   "cell_type": "markdown",
   "id": "41ba540d-9e29-4184-8113-2723844a0fe7",
   "metadata": {},
   "source": [
    "## Author\n",
    "##### Jake Blycher"
   ]
  },
  {
   "cell_type": "code",
   "execution_count": null,
   "id": "ffef3d12-bc03-471b-850e-b88171a9cf80",
   "metadata": {},
   "outputs": [],
   "source": []
  }
 ],
 "metadata": {
  "kernelspec": {
   "display_name": "Python 3 (ipykernel)",
   "language": "python",
   "name": "python3"
  },
  "language_info": {
   "codemirror_mode": {
    "name": "ipython",
    "version": 3
   },
   "file_extension": ".py",
   "mimetype": "text/x-python",
   "name": "python",
   "nbconvert_exporter": "python",
   "pygments_lexer": "ipython3",
   "version": "3.11.7"
  }
 },
 "nbformat": 4,
 "nbformat_minor": 5
}
